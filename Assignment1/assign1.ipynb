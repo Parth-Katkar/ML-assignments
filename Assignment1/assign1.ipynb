{
  "nbformat": 4,
  "nbformat_minor": 0,
  "metadata": {
    "colab": {
      "provenance": []
    },
    "kernelspec": {
      "name": "python3",
      "display_name": "Python 3"
    },
    "language_info": {
      "name": "python"
    }
  },
  "cells": [
    {
      "cell_type": "code",
      "execution_count": 2,
      "metadata": {
        "id": "HPcyw4LvIFs8"
      },
      "outputs": [],
      "source": [
        "import numpy as np\n",
        "import pandas as pd\n",
        "import matplotlib.pyplot as plt\n",
        "import seaborn as sns\n",
        "from google.colab import files"
      ]
    },
    {
      "cell_type": "code",
      "source": [
        "uploaded = files.upload()"
      ],
      "metadata": {
        "colab": {
          "base_uri": "https://localhost:8080/",
          "height": 72
        },
        "id": "mHzxnz5ILT-s",
        "outputId": "22ffd6ca-80c5-45ac-9b00-2e8d8c30f3ce"
      },
      "execution_count": 3,
      "outputs": [
        {
          "output_type": "display_data",
          "data": {
            "text/plain": [
              "<IPython.core.display.HTML object>"
            ],
            "text/html": [
              "\n",
              "     <input type=\"file\" id=\"files-7b866684-84a4-4653-9c71-5ccd0b4f0e03\" name=\"files[]\" multiple disabled\n",
              "        style=\"border:none\" />\n",
              "     <output id=\"result-7b866684-84a4-4653-9c71-5ccd0b4f0e03\">\n",
              "      Upload widget is only available when the cell has been executed in the\n",
              "      current browser session. Please rerun this cell to enable.\n",
              "      </output>\n",
              "      <script>// Copyright 2017 Google LLC\n",
              "//\n",
              "// Licensed under the Apache License, Version 2.0 (the \"License\");\n",
              "// you may not use this file except in compliance with the License.\n",
              "// You may obtain a copy of the License at\n",
              "//\n",
              "//      http://www.apache.org/licenses/LICENSE-2.0\n",
              "//\n",
              "// Unless required by applicable law or agreed to in writing, software\n",
              "// distributed under the License is distributed on an \"AS IS\" BASIS,\n",
              "// WITHOUT WARRANTIES OR CONDITIONS OF ANY KIND, either express or implied.\n",
              "// See the License for the specific language governing permissions and\n",
              "// limitations under the License.\n",
              "\n",
              "/**\n",
              " * @fileoverview Helpers for google.colab Python module.\n",
              " */\n",
              "(function(scope) {\n",
              "function span(text, styleAttributes = {}) {\n",
              "  const element = document.createElement('span');\n",
              "  element.textContent = text;\n",
              "  for (const key of Object.keys(styleAttributes)) {\n",
              "    element.style[key] = styleAttributes[key];\n",
              "  }\n",
              "  return element;\n",
              "}\n",
              "\n",
              "// Max number of bytes which will be uploaded at a time.\n",
              "const MAX_PAYLOAD_SIZE = 100 * 1024;\n",
              "\n",
              "function _uploadFiles(inputId, outputId) {\n",
              "  const steps = uploadFilesStep(inputId, outputId);\n",
              "  const outputElement = document.getElementById(outputId);\n",
              "  // Cache steps on the outputElement to make it available for the next call\n",
              "  // to uploadFilesContinue from Python.\n",
              "  outputElement.steps = steps;\n",
              "\n",
              "  return _uploadFilesContinue(outputId);\n",
              "}\n",
              "\n",
              "// This is roughly an async generator (not supported in the browser yet),\n",
              "// where there are multiple asynchronous steps and the Python side is going\n",
              "// to poll for completion of each step.\n",
              "// This uses a Promise to block the python side on completion of each step,\n",
              "// then passes the result of the previous step as the input to the next step.\n",
              "function _uploadFilesContinue(outputId) {\n",
              "  const outputElement = document.getElementById(outputId);\n",
              "  const steps = outputElement.steps;\n",
              "\n",
              "  const next = steps.next(outputElement.lastPromiseValue);\n",
              "  return Promise.resolve(next.value.promise).then((value) => {\n",
              "    // Cache the last promise value to make it available to the next\n",
              "    // step of the generator.\n",
              "    outputElement.lastPromiseValue = value;\n",
              "    return next.value.response;\n",
              "  });\n",
              "}\n",
              "\n",
              "/**\n",
              " * Generator function which is called between each async step of the upload\n",
              " * process.\n",
              " * @param {string} inputId Element ID of the input file picker element.\n",
              " * @param {string} outputId Element ID of the output display.\n",
              " * @return {!Iterable<!Object>} Iterable of next steps.\n",
              " */\n",
              "function* uploadFilesStep(inputId, outputId) {\n",
              "  const inputElement = document.getElementById(inputId);\n",
              "  inputElement.disabled = false;\n",
              "\n",
              "  const outputElement = document.getElementById(outputId);\n",
              "  outputElement.innerHTML = '';\n",
              "\n",
              "  const pickedPromise = new Promise((resolve) => {\n",
              "    inputElement.addEventListener('change', (e) => {\n",
              "      resolve(e.target.files);\n",
              "    });\n",
              "  });\n",
              "\n",
              "  const cancel = document.createElement('button');\n",
              "  inputElement.parentElement.appendChild(cancel);\n",
              "  cancel.textContent = 'Cancel upload';\n",
              "  const cancelPromise = new Promise((resolve) => {\n",
              "    cancel.onclick = () => {\n",
              "      resolve(null);\n",
              "    };\n",
              "  });\n",
              "\n",
              "  // Wait for the user to pick the files.\n",
              "  const files = yield {\n",
              "    promise: Promise.race([pickedPromise, cancelPromise]),\n",
              "    response: {\n",
              "      action: 'starting',\n",
              "    }\n",
              "  };\n",
              "\n",
              "  cancel.remove();\n",
              "\n",
              "  // Disable the input element since further picks are not allowed.\n",
              "  inputElement.disabled = true;\n",
              "\n",
              "  if (!files) {\n",
              "    return {\n",
              "      response: {\n",
              "        action: 'complete',\n",
              "      }\n",
              "    };\n",
              "  }\n",
              "\n",
              "  for (const file of files) {\n",
              "    const li = document.createElement('li');\n",
              "    li.append(span(file.name, {fontWeight: 'bold'}));\n",
              "    li.append(span(\n",
              "        `(${file.type || 'n/a'}) - ${file.size} bytes, ` +\n",
              "        `last modified: ${\n",
              "            file.lastModifiedDate ? file.lastModifiedDate.toLocaleDateString() :\n",
              "                                    'n/a'} - `));\n",
              "    const percent = span('0% done');\n",
              "    li.appendChild(percent);\n",
              "\n",
              "    outputElement.appendChild(li);\n",
              "\n",
              "    const fileDataPromise = new Promise((resolve) => {\n",
              "      const reader = new FileReader();\n",
              "      reader.onload = (e) => {\n",
              "        resolve(e.target.result);\n",
              "      };\n",
              "      reader.readAsArrayBuffer(file);\n",
              "    });\n",
              "    // Wait for the data to be ready.\n",
              "    let fileData = yield {\n",
              "      promise: fileDataPromise,\n",
              "      response: {\n",
              "        action: 'continue',\n",
              "      }\n",
              "    };\n",
              "\n",
              "    // Use a chunked sending to avoid message size limits. See b/62115660.\n",
              "    let position = 0;\n",
              "    do {\n",
              "      const length = Math.min(fileData.byteLength - position, MAX_PAYLOAD_SIZE);\n",
              "      const chunk = new Uint8Array(fileData, position, length);\n",
              "      position += length;\n",
              "\n",
              "      const base64 = btoa(String.fromCharCode.apply(null, chunk));\n",
              "      yield {\n",
              "        response: {\n",
              "          action: 'append',\n",
              "          file: file.name,\n",
              "          data: base64,\n",
              "        },\n",
              "      };\n",
              "\n",
              "      let percentDone = fileData.byteLength === 0 ?\n",
              "          100 :\n",
              "          Math.round((position / fileData.byteLength) * 100);\n",
              "      percent.textContent = `${percentDone}% done`;\n",
              "\n",
              "    } while (position < fileData.byteLength);\n",
              "  }\n",
              "\n",
              "  // All done.\n",
              "  yield {\n",
              "    response: {\n",
              "      action: 'complete',\n",
              "    }\n",
              "  };\n",
              "}\n",
              "\n",
              "scope.google = scope.google || {};\n",
              "scope.google.colab = scope.google.colab || {};\n",
              "scope.google.colab._files = {\n",
              "  _uploadFiles,\n",
              "  _uploadFilesContinue,\n",
              "};\n",
              "})(self);\n",
              "</script> "
            ]
          },
          "metadata": {}
        },
        {
          "output_type": "stream",
          "name": "stdout",
          "text": [
            "Saving Customers.csv to Customers.csv\n"
          ]
        }
      ]
    },
    {
      "cell_type": "code",
      "source": [
        "data=pd.read_csv(\"/content/Customers.csv\")"
      ],
      "metadata": {
        "id": "_tBOMVT7LYlM"
      },
      "execution_count": 4,
      "outputs": []
    },
    {
      "cell_type": "code",
      "source": [
        "print(data.head())"
      ],
      "metadata": {
        "colab": {
          "base_uri": "https://localhost:8080/"
        },
        "id": "gNt66Lq0L-Hd",
        "outputId": "cd52c7de-2527-4f25-a5fc-6663ef2260a6"
      },
      "execution_count": 5,
      "outputs": [
        {
          "output_type": "stream",
          "name": "stdout",
          "text": [
            "   CustomerID  Gender  Age  Annual Income ($)  Spending Score (1-100)  \\\n",
            "0           1    Male   19              15000                      39   \n",
            "1           2    Male   21              35000                      81   \n",
            "2           3  Female   20              86000                       6   \n",
            "3           4  Female   23              59000                      77   \n",
            "4           5  Female   31              38000                      40   \n",
            "\n",
            "      Profession  Work Experience  Family Size  \n",
            "0     Healthcare                1            4  \n",
            "1       Engineer                3            3  \n",
            "2       Engineer                1            1  \n",
            "3         Lawyer                0            2  \n",
            "4  Entertainment                2            6  \n"
          ]
        }
      ]
    },
    {
      "cell_type": "code",
      "source": [
        "#Finding shape of data\n",
        "print(\"Shape of Data: \",data.shape)"
      ],
      "metadata": {
        "colab": {
          "base_uri": "https://localhost:8080/"
        },
        "id": "5j5m089mMEAF",
        "outputId": "879a4b50-93dc-4b51-9d16-46469319e473"
      },
      "execution_count": 6,
      "outputs": [
        {
          "output_type": "stream",
          "name": "stdout",
          "text": [
            "Shape of Data:  (2000, 8)\n"
          ]
        }
      ]
    },
    {
      "cell_type": "code",
      "source": [
        "#finding isnull/missing value\n",
        "print(f\"Missing values \\n{data.isnull().sum()}\")"
      ],
      "metadata": {
        "colab": {
          "base_uri": "https://localhost:8080/"
        },
        "id": "lKkfF8TWMPW9",
        "outputId": "da709136-9af3-4b0e-db6a-e440a74b081f"
      },
      "execution_count": 15,
      "outputs": [
        {
          "output_type": "stream",
          "name": "stdout",
          "text": [
            "Missing values \n",
            "CustomerID                 0\n",
            "Gender                     0\n",
            "Age                        0\n",
            "Annual Income ($)          0\n",
            "Spending Score (1-100)     0\n",
            "Profession                35\n",
            "Work Experience            0\n",
            "Family Size                0\n",
            "dtype: int64\n"
          ]
        }
      ]
    },
    {
      "cell_type": "code",
      "source": [
        "#finding the data type of each column\n",
        "print(f\"Data Types \\n{data.dtypes}\")"
      ],
      "metadata": {
        "colab": {
          "base_uri": "https://localhost:8080/"
        },
        "id": "fS3OTzS1MZU9",
        "outputId": "0fe1067f-46b9-465d-ae35-341abac4413c"
      },
      "execution_count": 19,
      "outputs": [
        {
          "output_type": "stream",
          "name": "stdout",
          "text": [
            "Data Types \n",
            "CustomerID                 int64\n",
            "Gender                    object\n",
            "Age                        int64\n",
            "Annual Income ($)          int64\n",
            "Spending Score (1-100)     int64\n",
            "Profession                object\n",
            "Work Experience            int64\n",
            "Family Size                int64\n",
            "dtype: object\n"
          ]
        }
      ]
    },
    {
      "cell_type": "code",
      "source": [
        "# Finding Out Zero’s\n",
        "zero=(data == 0).sum()\n",
        "print(zero)"
      ],
      "metadata": {
        "colab": {
          "base_uri": "https://localhost:8080/"
        },
        "id": "n5uk-T3IMiOT",
        "outputId": "8f0471dd-1f6c-4494-d7cc-39fa272eecc2"
      },
      "execution_count": 20,
      "outputs": [
        {
          "output_type": "stream",
          "name": "stdout",
          "text": [
            "CustomerID                  0\n",
            "Gender                      0\n",
            "Age                        24\n",
            "Annual Income ($)           2\n",
            "Spending Score (1-100)      2\n",
            "Profession                  0\n",
            "Work Experience           431\n",
            "Family Size                 0\n",
            "dtype: int64\n"
          ]
        }
      ]
    },
    {
      "cell_type": "code",
      "source": [
        "print(data.columns)"
      ],
      "metadata": {
        "colab": {
          "base_uri": "https://localhost:8080/"
        },
        "id": "KCpRmdpHMoZO",
        "outputId": "aff3092d-73fb-4034-e1cc-ea6552422c50"
      },
      "execution_count": 21,
      "outputs": [
        {
          "output_type": "stream",
          "name": "stdout",
          "text": [
            "Index(['CustomerID', 'Gender', 'Age', 'Annual Income ($)',\n",
            "       'Spending Score (1-100)', 'Profession', 'Work Experience',\n",
            "       'Family Size'],\n",
            "      dtype='object')\n"
          ]
        }
      ]
    },
    {
      "cell_type": "code",
      "source": [
        "# Indexing and selecting specific rows/columns\n",
        "print(data[['Profession', 'Work Experience']].iloc[0:5])\n",
        "# Sorting data by a specific column\n",
        "sorted_data = data.sort_values(by=\"CustomerID\")\n",
        "print(sorted_data.head())"
      ],
      "metadata": {
        "colab": {
          "base_uri": "https://localhost:8080/"
        },
        "id": "XBxiuPxsNc3G",
        "outputId": "b4bdfc1f-c922-44e5-982d-d95e6cd0305b"
      },
      "execution_count": 24,
      "outputs": [
        {
          "output_type": "stream",
          "name": "stdout",
          "text": [
            "      Profession  Work Experience\n",
            "0     Healthcare                1\n",
            "1       Engineer                3\n",
            "2       Engineer                1\n",
            "3         Lawyer                0\n",
            "4  Entertainment                2\n",
            "   CustomerID  Gender  Age  Annual Income ($)  Spending Score (1-100)  \\\n",
            "0           1    Male   19              15000                      39   \n",
            "1           2    Male   21              35000                      81   \n",
            "2           3  Female   20              86000                       6   \n",
            "3           4  Female   23              59000                      77   \n",
            "4           5  Female   31              38000                      40   \n",
            "\n",
            "      Profession  Work Experience  Family Size  \n",
            "0     Healthcare                1            4  \n",
            "1       Engineer                3            3  \n",
            "2       Engineer                1            1  \n",
            "3         Lawyer                0            2  \n",
            "4  Entertainment                2            6  \n"
          ]
        }
      ]
    },
    {
      "cell_type": "code",
      "source": [
        "print(\"Summary statistics for CSV data:\")\n",
        "print(data.describe())"
      ],
      "metadata": {
        "colab": {
          "base_uri": "https://localhost:8080/"
        },
        "id": "ssh1VM9cPkEu",
        "outputId": "715a5664-1d3e-4e16-8da3-706de14ee293"
      },
      "execution_count": 25,
      "outputs": [
        {
          "output_type": "stream",
          "name": "stdout",
          "text": [
            "Summary statistics for CSV data:\n",
            "        CustomerID          Age  Annual Income ($)  Spending Score (1-100)  \\\n",
            "count  2000.000000  2000.000000        2000.000000             2000.000000   \n",
            "mean   1000.500000    48.960000      110731.821500               50.962500   \n",
            "std     577.494589    28.429747       45739.536688               27.934661   \n",
            "min       1.000000     0.000000           0.000000                0.000000   \n",
            "25%     500.750000    25.000000       74572.000000               28.000000   \n",
            "50%    1000.500000    48.000000      110045.000000               50.000000   \n",
            "75%    1500.250000    73.000000      149092.750000               75.000000   \n",
            "max    2000.000000    99.000000      189974.000000              100.000000   \n",
            "\n",
            "       Work Experience  Family Size  \n",
            "count      2000.000000  2000.000000  \n",
            "mean          4.102500     3.768500  \n",
            "std           3.922204     1.970749  \n",
            "min           0.000000     1.000000  \n",
            "25%           1.000000     2.000000  \n",
            "50%           3.000000     4.000000  \n",
            "75%           7.000000     5.000000  \n",
            "max          17.000000     9.000000  \n"
          ]
        }
      ]
    },
    {
      "cell_type": "code",
      "source": [
        "print(\"Counting unique values : \")\n",
        "print(data.nunique())\n",
        "\n",
        "print(\"\\nFormat of columns : \")\n",
        "print(data.dtypes)\n",
        "\n",
        "\n",
        "print(\"\\nConverting data type : \")\n",
        "data['Age'] = data['Age'].astype(float)\n",
        "print(data.dtypes)"
      ],
      "metadata": {
        "id": "DUEOexHwPwG7",
        "colab": {
          "base_uri": "https://localhost:8080/"
        },
        "outputId": "df1dbfa7-2521-40b7-91e3-3004fab2d909"
      },
      "execution_count": 28,
      "outputs": [
        {
          "output_type": "stream",
          "name": "stdout",
          "text": [
            "Counting unique values : \n",
            "CustomerID                2000\n",
            "Gender                       2\n",
            "Age                        100\n",
            "Annual Income ($)         1786\n",
            "Spending Score (1-100)     101\n",
            "Profession                   9\n",
            "Work Experience             18\n",
            "Family Size                  9\n",
            "dtype: int64\n",
            "\n",
            "Format of columns : \n",
            "CustomerID                 int64\n",
            "Gender                    object\n",
            "Age                        int64\n",
            "Annual Income ($)          int64\n",
            "Spending Score (1-100)     int64\n",
            "Profession                object\n",
            "Work Experience            int64\n",
            "Family Size                int64\n",
            "dtype: object\n",
            "\n",
            "Converting data type : \n",
            "CustomerID                  int64\n",
            "Gender                     object\n",
            "Age                       float64\n",
            "Annual Income ($)           int64\n",
            "Spending Score (1-100)      int64\n",
            "Profession                 object\n",
            "Work Experience             int64\n",
            "Family Size                 int64\n",
            "dtype: object\n"
          ]
        }
      ]
    }
  ]
}